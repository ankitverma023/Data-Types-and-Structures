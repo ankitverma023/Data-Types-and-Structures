{
  "nbformat": 4,
  "nbformat_minor": 0,
  "metadata": {
    "colab": {
      "provenance": []
    },
    "kernelspec": {
      "name": "python3",
      "display_name": "Python 3"
    },
    "language_info": {
      "name": "python"
    }
  },
  "cells": [
    {
      "cell_type": "markdown",
      "source": [
        "# Data Types and Structures\n"
      ],
      "metadata": {
        "id": "QWKLOaBLTruR"
      }
    },
    {
      "cell_type": "markdown",
      "source": [
        "1. What are data structures, and why are they important?\n",
        "-   Data structures are ways to organize and store data to enable efficient access and modification. They are important because they provide a means to manage large amounts of data efficiently, enabling better performance and scalability in software applications.\n",
        "\n",
        "2. Explain the difference between mutable and immutable data types with examples.\n",
        "- Mutable data types can be changed after their creation, e.g., lists ([1, 2, 3] can be modified). Immutable data types cannot be changed after creation, e.g., tuples ((1, 2, 3) cannot be modified).\n",
        "\n",
        "3. What are the main differences between lists and tuples in Python?\n",
        "- Lists are mutable and can be modified after creation ([1, 2, 3]). Tuples are immutable and cannot be modified once created ((1, 2, 3)).\n",
        "\n",
        "4. Describe how dictionaries store data.\n",
        "- Dictionaries store data as key-value pairs, allowing for fast retrieval of values based on their unique keys. The data is stored in a way that allows quick lookups.\n",
        "\n",
        "5. Why might you use a set instead of a list in Python?\n",
        "- Sets are used when you need to store unique elements and do not care about the order. They are efficient for membership tests (checking if an element is in the set).\n",
        "\n",
        "6. What is a string in Python, and how is it different from a list?\n",
        "- A string is an immutable sequence of characters (\"hello\"). Unlike lists, strings cannot be changed once created, and they only store characters.\n",
        "\n",
        "7.  How do tuples ensure data integrity in Python?\n",
        "- Tuples are immutable, which means their elements cannot be changed after creation, ensuring that the data remains constant throughout the program.\n",
        "\n",
        "8. What is a hash table, and how does it relate to dictionaries in Python?\n",
        "- A hash table is a data structure that stores key-value pairs and allows for fast data retrieval. Dictionaries in Python use hash tables to store and access data efficiently.\n",
        "\n",
        "9. Can lists contain different data types in Python?\n",
        "- Yes, lists can contain elements of different data types, such as integers, strings, and objects ([1, \"hello\", 3.14]).\n",
        "\n",
        "10. Explain why strings are immutable in Python.\n",
        "- Strings are immutable to ensure that they can be safely shared and used as keys in dictionaries without risk of being altered.\n",
        "\n",
        "11. What advantages do dictionaries offer over lists for certain tasks?\n",
        "- Dictionaries provide fast lookups, insertions, and deletions based on keys, which can be more efficient than lists when dealing with a large amount of data that needs to be accessed by unique identifiers.\n",
        "\n",
        "12. Describe a scenario where using a tuple would be preferable over a list.\n",
        "- Tuples are preferable when you need to ensure the data remains constant and should not be modified, such as representing fixed collections of items like coordinates (x, y).\n",
        "\n",
        "13. How do sets handle duplicate values in Python?\n",
        "- Sets automatically handle duplicate values by only storing unique elements. Any duplicate element added to a set is ignored.\n",
        "\n",
        "14. How does the “in” keyword work differently for lists and dictionaries?\n",
        "- For lists, the in keyword checks for the presence of a value. For dictionaries, it checks for the presence of a key.\n",
        "\n",
        "15. Can you modify the elements of a tuple? Explain why or why not.\n",
        "- No, you cannot modify the elements of a tuple because tuples are immutable.\n",
        "\n",
        "16. What is a nested dictionary, and give an example of its use case?\n",
        "- A nested dictionary is a dictionary within another dictionary. It is useful for storing complex data structures, like storing student records where each student has multiple attributes.\n",
        "\n",
        "python\n",
        "Copy code\n",
        "students = {\n",
        "    \"Alice\": {\"age\": 25, \"grade\": \"A\"},\n",
        "    \"Bob\": {\"age\": 22, \"grade\": \"B\"}\n",
        "}\n",
        "17. Describe the time complexity of accessing elements in a dictionary.\n",
        "- The time complexity of accessing elements in a dictionary is O(1) on average due to the underlying hash table.\n",
        "\n",
        "18. In what situations are lists preferred over dictionaries?\n",
        "- Lists are preferred when the order of elements is important, and you need to perform sequential operations, like iterating through elements.\n",
        "\n",
        "19. Why are dictionaries considered unordered, and how does that affect data retrieval?\n",
        "- Dictionaries are considered unordered because they do not maintain the order of elements based on insertion. This means you cannot rely on the order when retrieving data.\n",
        "\n",
        "20. Explain the difference between a list and a dictionary in terms of data retrieval.\n",
        "- Lists use indices for data retrieval and maintain order, while dictionaries use keys for retrieval and do not guarantee order."
      ],
      "metadata": {
        "id": "JKw1aXVJT3jS"
      }
    },
    {
      "cell_type": "code",
      "execution_count": 2,
      "metadata": {
        "colab": {
          "base_uri": "https://localhost:8080/"
        },
        "id": "K5p5KCf1TkG1",
        "outputId": "de6e45f0-d4f8-4a84-ec1d-1265d1c25e98"
      },
      "outputs": [
        {
          "output_type": "stream",
          "name": "stdout",
          "text": [
            "Ankit Verma\n"
          ]
        }
      ],
      "source": [
        "# 1. Write a code to create a string with your name and print it.\n",
        "name = \"Ankit Verma\"\n",
        "print(name)"
      ]
    },
    {
      "cell_type": "code",
      "source": [
        "2. #Write a code to find the length of the string \"Hello World\".\n",
        "string = \"Hello World\"\n",
        "length = len(string)\n",
        "print(length)"
      ],
      "metadata": {
        "colab": {
          "base_uri": "https://localhost:8080/"
        },
        "id": "OBQBaKrSWzB0",
        "outputId": "e53950dd-3ed3-42a7-91c2-f3f4f37428b6"
      },
      "execution_count": 3,
      "outputs": [
        {
          "output_type": "stream",
          "name": "stdout",
          "text": [
            "11\n"
          ]
        }
      ]
    },
    {
      "cell_type": "code",
      "source": [
        "3. # Write a code to slice the first 3 characters from the string \"Python Programming\".\n",
        "string = \"Python Programming\"\n",
        "sliced_string = string[:3]\n",
        "print(sliced_string)"
      ],
      "metadata": {
        "colab": {
          "base_uri": "https://localhost:8080/"
        },
        "id": "O41lfAhaXr6U",
        "outputId": "c6d17c52-00b4-4a09-83cf-2d70e60e50b6"
      },
      "execution_count": 4,
      "outputs": [
        {
          "output_type": "stream",
          "name": "stdout",
          "text": [
            "Pyt\n"
          ]
        }
      ]
    },
    {
      "cell_type": "code",
      "source": [
        "4. # Write a code to convert the string \"hello\" to uppercase.\n",
        "\n",
        "string = \"hello\"\n",
        "uppercase_string = string.upper()\n",
        "print(uppercase_string)"
      ],
      "metadata": {
        "colab": {
          "base_uri": "https://localhost:8080/"
        },
        "id": "MI-sxiaGYK1t",
        "outputId": "5104d45e-0887-4c39-fdac-9a76b15c1972"
      },
      "execution_count": 5,
      "outputs": [
        {
          "output_type": "stream",
          "name": "stdout",
          "text": [
            "HELLO\n"
          ]
        }
      ]
    },
    {
      "cell_type": "code",
      "source": [
        "5.#Write a code to replace the word \"apple\" with \"orange\" in the string \"I like apple\".\n",
        "\n",
        "string = \"I like apple\"\n",
        "replaced_string = string.replace(\"apple\", \"orange\")\n",
        "print(replaced_string)"
      ],
      "metadata": {
        "colab": {
          "base_uri": "https://localhost:8080/"
        },
        "id": "t4uS9FzpYbvj",
        "outputId": "73759612-693a-4aab-a3f0-d52f94acd656"
      },
      "execution_count": 6,
      "outputs": [
        {
          "output_type": "stream",
          "name": "stdout",
          "text": [
            "I like orange\n"
          ]
        }
      ]
    },
    {
      "cell_type": "code",
      "source": [
        "6. #Write a code to create a list with numbers 1 to 5 and print it.\n",
        "numbers = [1, 2, 3, 4, 5]\n",
        "print(numbers)"
      ],
      "metadata": {
        "colab": {
          "base_uri": "https://localhost:8080/"
        },
        "id": "F9JyF6T4Ybr5",
        "outputId": "90d11e29-f455-4a7e-f996-5e70998fafb3"
      },
      "execution_count": 7,
      "outputs": [
        {
          "output_type": "stream",
          "name": "stdout",
          "text": [
            "[1, 2, 3, 4, 5]\n"
          ]
        }
      ]
    },
    {
      "cell_type": "code",
      "source": [
        "7.#Write a code to append the number 10 to the list [1, 2, 3, 4].\n",
        "\n",
        "numbers = [1, 2, 3, 4]\n",
        "numbers.append(10)\n",
        "print(numbers)"
      ],
      "metadata": {
        "colab": {
          "base_uri": "https://localhost:8080/"
        },
        "id": "w6pEiF7FYbpi",
        "outputId": "73d12eff-65ae-4ed2-c409-7b836cb7acb8"
      },
      "execution_count": 8,
      "outputs": [
        {
          "output_type": "stream",
          "name": "stdout",
          "text": [
            "[1, 2, 3, 4, 10]\n"
          ]
        }
      ]
    },
    {
      "cell_type": "code",
      "source": [
        "8.#Write a code to remove the number 3 from the list [1, 2, 3, 4, 5].\n",
        "numbers = [1, 2, 3, 4, 5]\n",
        "numbers.remove(3)\n",
        "print(numbers)"
      ],
      "metadata": {
        "colab": {
          "base_uri": "https://localhost:8080/"
        },
        "id": "nPHz_lBCYbm9",
        "outputId": "08223820-1cb6-449f-e523-5d7c9fbb611b"
      },
      "execution_count": 9,
      "outputs": [
        {
          "output_type": "stream",
          "name": "stdout",
          "text": [
            "[1, 2, 4, 5]\n"
          ]
        }
      ]
    },
    {
      "cell_type": "code",
      "source": [
        " 9.#Write a code to access the second element in the list ['a', 'b', 'c', 'd'].\n",
        "letters = ['a', 'b', 'c', 'd']\n",
        "second_element = letters[1]\n",
        "print(second_element)"
      ],
      "metadata": {
        "colab": {
          "base_uri": "https://localhost:8080/"
        },
        "id": "hy3JWIOKYbkz",
        "outputId": "aebddc04-e9e1-4a65-a8b1-efcc465b2742"
      },
      "execution_count": 11,
      "outputs": [
        {
          "output_type": "stream",
          "name": "stdout",
          "text": [
            "b\n"
          ]
        }
      ]
    },
    {
      "cell_type": "code",
      "source": [
        "10.#Write a code to reverse the list [10, 20, 30, 40, 50].\n",
        "numbers = [10, 20, 30, 40, 50]\n",
        "reversed_numbers = numbers[::-1]\n",
        "print(reversed_numbers)"
      ],
      "metadata": {
        "colab": {
          "base_uri": "https://localhost:8080/"
        },
        "id": "oHnzKiAQYbiX",
        "outputId": "8a58f350-db85-4d36-9859-197ca46290a3"
      },
      "execution_count": 12,
      "outputs": [
        {
          "output_type": "stream",
          "name": "stdout",
          "text": [
            "[50, 40, 30, 20, 10]\n"
          ]
        }
      ]
    },
    {
      "cell_type": "code",
      "source": [
        "11.#Write a code to create a tuple with the elements 10, 20, 30 and print it.\n",
        "numbers_tuple = (10, 20, 30)\n",
        "print(numbers_tuple)"
      ],
      "metadata": {
        "colab": {
          "base_uri": "https://localhost:8080/"
        },
        "id": "xtqKHXD9Ybf7",
        "outputId": "ff18347a-ba4e-4ef6-82e8-ab9a215105ca"
      },
      "execution_count": 13,
      "outputs": [
        {
          "output_type": "stream",
          "name": "stdout",
          "text": [
            "(10, 20, 30)\n"
          ]
        }
      ]
    },
    {
      "cell_type": "code",
      "source": [
        "12.#Write a code to access the first element of the tuple ('apple', 'banana', 'cherry')\n",
        "\n",
        "fruits = ('apple', 'banana', 'cherry')\n",
        "first_element = fruits[0]\n",
        "print(first_element)"
      ],
      "metadata": {
        "colab": {
          "base_uri": "https://localhost:8080/"
        },
        "id": "nOLovhbSYbdQ",
        "outputId": "d174ab22-3537-4cdc-f565-e9bdafdc85b6"
      },
      "execution_count": 14,
      "outputs": [
        {
          "output_type": "stream",
          "name": "stdout",
          "text": [
            "apple\n"
          ]
        }
      ]
    },
    {
      "cell_type": "code",
      "source": [
        "13.#Write a code to count how many times the number 2 appears in the tuple (1, 2, 3, 2, 4, 2).\n",
        "numbers_tuple = (1, 2, 3, 2, 4, 2)\n",
        "count_2 = numbers_tuple.count(2)\n",
        "print(count_2)"
      ],
      "metadata": {
        "colab": {
          "base_uri": "https://localhost:8080/"
        },
        "id": "R80ADp0KYba2",
        "outputId": "799ee8d8-26cf-4869-df9a-663fdc6aeb34"
      },
      "execution_count": 15,
      "outputs": [
        {
          "output_type": "stream",
          "name": "stdout",
          "text": [
            "3\n"
          ]
        }
      ]
    },
    {
      "cell_type": "code",
      "source": [
        " 14.#Write a code to find the index of the element \"cat\" in the tuple ('dog', 'cat', 'rabbit').\n",
        "animals = ('dog', 'cat', 'rabbit')\n",
        "index_cat = animals.index('cat')\n",
        "print(index_cat)"
      ],
      "metadata": {
        "colab": {
          "base_uri": "https://localhost:8080/"
        },
        "id": "A7ZEPVG9YbYS",
        "outputId": "c5d34ab1-93ad-4ec7-ef69-ab60776fed4a"
      },
      "execution_count": 16,
      "outputs": [
        {
          "output_type": "stream",
          "name": "stdout",
          "text": [
            "1\n"
          ]
        }
      ]
    },
    {
      "cell_type": "code",
      "source": [
        "15.#Write a code to check if the element \"banana\" is in the tuple ('apple', 'orange', 'banana').\n",
        "\n",
        "fruits = ('apple', 'orange', 'banana')\n",
        "is_banana_in_tuple = 'banana' in fruits\n",
        "print(is_banana_in_tuple)"
      ],
      "metadata": {
        "colab": {
          "base_uri": "https://localhost:8080/"
        },
        "id": "Z41LZcazYbVs",
        "outputId": "6dbb2675-03fe-42af-b9ef-1c2e78334fee"
      },
      "execution_count": 17,
      "outputs": [
        {
          "output_type": "stream",
          "name": "stdout",
          "text": [
            "True\n"
          ]
        }
      ]
    },
    {
      "cell_type": "code",
      "source": [
        "16.#Write a code to create a set with the elements 1, 2, 3, 4, 5 and print it.\n",
        "numbers_set = {1, 2, 3, 4, 5}\n",
        "print(numbers_set)"
      ],
      "metadata": {
        "colab": {
          "base_uri": "https://localhost:8080/"
        },
        "id": "AcDwT-K4YbTN",
        "outputId": "9f58ea02-aba5-471f-a743-fac03337049e"
      },
      "execution_count": 18,
      "outputs": [
        {
          "output_type": "stream",
          "name": "stdout",
          "text": [
            "{1, 2, 3, 4, 5}\n"
          ]
        }
      ]
    },
    {
      "cell_type": "code",
      "source": [
        "17.#Write a code to add the element 6 to the set {1, 2, 3, 4}.\n",
        "numbers_set = {1, 2, 3, 4}\n",
        "numbers_set.add(6)\n",
        "print(numbers_set)"
      ],
      "metadata": {
        "colab": {
          "base_uri": "https://localhost:8080/"
        },
        "id": "-sD1Wro4YbQr",
        "outputId": "27aa7380-4932-41fa-cda0-978722b1f5f8"
      },
      "execution_count": 19,
      "outputs": [
        {
          "output_type": "stream",
          "name": "stdout",
          "text": [
            "{1, 2, 3, 4, 6}\n"
          ]
        }
      ]
    },
    {
      "cell_type": "code",
      "source": [
        "18.#Write a code to create a tuple with the elements 10, 20, 30 and print it.\n",
        "numbers_tuple = (10, 20, 30)\n",
        "print(numbers_tuple)"
      ],
      "metadata": {
        "colab": {
          "base_uri": "https://localhost:8080/"
        },
        "id": "_vvmqPfmYbOO",
        "outputId": "7fa029be-ff58-43e2-edec-ab78e4f315e7"
      },
      "execution_count": 20,
      "outputs": [
        {
          "output_type": "stream",
          "name": "stdout",
          "text": [
            "(10, 20, 30)\n"
          ]
        }
      ]
    },
    {
      "cell_type": "code",
      "source": [
        "19.#Write a code to access the first element of the tuple ('apple', 'banana', 'cherry').\n",
        "fruits = ('apple', 'banana', 'cherry')\n",
        "first_element = fruits[0]\n",
        "print(first_element)"
      ],
      "metadata": {
        "colab": {
          "base_uri": "https://localhost:8080/"
        },
        "id": "9TE16n9pYbL5",
        "outputId": "83f377c1-9c5d-48e4-c0c5-b05dc7e0e64c"
      },
      "execution_count": 21,
      "outputs": [
        {
          "output_type": "stream",
          "name": "stdout",
          "text": [
            "apple\n"
          ]
        }
      ]
    },
    {
      "cell_type": "code",
      "source": [
        "20.#Write a code to count how many times the number 2 appears in the tuple (1, 2, 3, 2, 4, 2).\n",
        "numbers_tuple = (1, 2, 3, 2, 4, 2)\n",
        "count_2 = numbers_tuple.count(2)\n",
        "print(count_2)"
      ],
      "metadata": {
        "colab": {
          "base_uri": "https://localhost:8080/"
        },
        "id": "4nXa_5JAYbJi",
        "outputId": "0fa627d6-69e7-4663-c2b8-089c5ce303cc"
      },
      "execution_count": 22,
      "outputs": [
        {
          "output_type": "stream",
          "name": "stdout",
          "text": [
            "3\n"
          ]
        }
      ]
    },
    {
      "cell_type": "code",
      "source": [
        "21.# Write a code to find the index of the element \"cat\" in the tuple ('dog', 'cat', 'rabbit').\n",
        "animals = ('dog', 'cat', 'rabbit')\n",
        "index_cat = animals.index('cat')\n",
        "print(index_cat)"
      ],
      "metadata": {
        "colab": {
          "base_uri": "https://localhost:8080/"
        },
        "id": "0kZ6v0jaYbG8",
        "outputId": "7d14b63a-a43f-4ca7-b63b-18ba2b58fd59"
      },
      "execution_count": 25,
      "outputs": [
        {
          "output_type": "stream",
          "name": "stdout",
          "text": [
            "1\n"
          ]
        }
      ]
    },
    {
      "cell_type": "code",
      "source": [
        "22.#Write a code to check if the element \"banana\" is in the tuple ('apple', 'orange', 'banana').\n",
        "fruits = ('apple', 'orange', 'banana')\n",
        "is_banana_in_tuple = 'banana' in fruits\n",
        "print(is_banana_in_tuple)"
      ],
      "metadata": {
        "colab": {
          "base_uri": "https://localhost:8080/"
        },
        "id": "_IEYjVDrYbEj",
        "outputId": "3e674911-dbac-4224-d00c-ead05c65f23b"
      },
      "execution_count": 24,
      "outputs": [
        {
          "output_type": "stream",
          "name": "stdout",
          "text": [
            "True\n"
          ]
        }
      ]
    },
    {
      "cell_type": "code",
      "source": [
        " 23.#Write a code to create a set with the elements 1, 2, 3, 4, 5 and print it.\n",
        "numbers_set = {1, 2, 3, 4, 5}\n",
        "print(numbers_set)"
      ],
      "metadata": {
        "colab": {
          "base_uri": "https://localhost:8080/"
        },
        "id": "14ZsLHoIYbB-",
        "outputId": "22adf91c-83b1-4acb-d6df-dde2dfac4a98"
      },
      "execution_count": 23,
      "outputs": [
        {
          "output_type": "stream",
          "name": "stdout",
          "text": [
            "{1, 2, 3, 4, 5}\n"
          ]
        }
      ]
    },
    {
      "cell_type": "code",
      "source": [
        "24.#Write a code to add the element 6 to the set {1, 2, 3, 4}.\n",
        "numbers_set = {1, 2, 3, 4}\n",
        "numbers_set.add(6)\n",
        "print(numbers_set)"
      ],
      "metadata": {
        "colab": {
          "base_uri": "https://localhost:8080/"
        },
        "id": "vGaZILwZYa9M",
        "outputId": "3b003c4a-8f19-4a6c-c8e3-9aa4f981f8d8"
      },
      "execution_count": 26,
      "outputs": [
        {
          "output_type": "stream",
          "name": "stdout",
          "text": [
            "{1, 2, 3, 4, 6}\n"
          ]
        }
      ]
    }
  ]
}